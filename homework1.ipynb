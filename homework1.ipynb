{
 "cells": [
  {
   "cell_type": "code",
   "execution_count": 1,
   "metadata": {},
   "outputs": [
    {
     "name": "stdout",
     "output_type": "stream",
     "text": [
      "2\n"
     ]
    }
   ],
   "source": [
    "# 1. Calculate the multiplication and sum of two numbers input by the user.\n",
    "num1 = int(input(\"number 1:\"))\n",
    "num2 = int(input(\"number 2:\"))\n",
    "print(num1 + num2)"
   ]
  },
  {
   "cell_type": "code",
   "execution_count": 2,
   "metadata": {},
   "outputs": [
    {
     "name": "stdout",
     "output_type": "stream",
     "text": [
      "previous: 0\n",
      "current: 1\n",
      "sum: 1\n",
      "previous: 1\n",
      "current: 2\n",
      "sum: 3\n",
      "previous: 2\n",
      "current: 3\n",
      "sum: 5\n",
      "previous: 3\n",
      "current: 4\n",
      "sum: 7\n",
      "previous: 4\n",
      "current: 5\n",
      "sum: 9\n",
      "previous: 5\n",
      "current: 6\n",
      "sum: 11\n",
      "previous: 6\n",
      "current: 7\n",
      "sum: 13\n",
      "previous: 7\n",
      "current: 8\n",
      "sum: 15\n",
      "previous: 8\n",
      "current: 9\n",
      "sum: 17\n",
      "previous: 9\n",
      "current: 10\n",
      "sum: 19\n"
     ]
    }
   ],
   "source": [
    "# 2. Print the current number and the previous number, and the sum of the two, through 10 iterations (start at the number 1).\n",
    "for i in range(1, 11):\n",
    "    print(f\"previous: {i-1}\")\n",
    "    print(f\"current: {i}\")\n",
    "    print(f\"sum: {2*i-1}\")"
   ]
  },
  {
   "cell_type": "code",
   "execution_count": 3,
   "metadata": {},
   "outputs": [
    {
     "name": "stdout",
     "output_type": "stream",
     "text": [
      "h\n",
      "l\n",
      "o\n"
     ]
    }
   ],
   "source": [
    "# 3. Write a program to accept a String from a user and display the characters at an even index (separate lines for each).\n",
    "\n",
    "str = input(\"Enter a string: \")\n",
    "for i in range(len(str)):\n",
    "    if i % 2 == 0:\n",
    "        print(str[i])"
   ]
  },
  {
   "cell_type": "code",
   "execution_count": 4,
   "metadata": {},
   "outputs": [
    {
     "name": "stdout",
     "output_type": "stream",
     "text": [
      "ello\n"
     ]
    }
   ],
   "source": [
    "# 4. Write a program to remove characters from a string starting from zero up to n and return a new String.\n",
    "\n",
    "string = input(\"Enter a string: \")\n",
    "n = int(input(\"Enter a number: \"))\n",
    "print(string[n:])"
   ]
  },
  {
   "cell_type": "code",
   "execution_count": 5,
   "metadata": {},
   "outputs": [],
   "source": [
    "# 5. Write a function to return True if the first and last number in a given list is the same. If numbers are different, return False.\n",
    "\n",
    "def firstLast(list):\n",
    "    return list[0] == list[len(list) - 1]"
   ]
  },
  {
   "cell_type": "code",
   "execution_count": 6,
   "metadata": {},
   "outputs": [
    {
     "name": "stdout",
     "output_type": "stream",
     "text": [
      "0\n"
     ]
    }
   ],
   "source": [
    "# 6. Write a program to find how many times the substring “Delicatessen” appears in the given String. \n",
    "\n",
    "string = input(\"Enter a string: \")\n",
    "\n",
    "print(string.count(\"Delicatessen\"))"
   ]
  },
  {
   "cell_type": "code",
   "execution_count": 7,
   "metadata": {},
   "outputs": [
    {
     "name": "stdout",
     "output_type": "stream",
     "text": [
      "\n",
      "1 \n",
      "2 2 \n",
      "3 3 3 \n",
      "4 4 4 4 \n",
      "5 5 5 5 5 \n"
     ]
    }
   ],
   "source": [
    "# 7. Print the following pattern:\n",
    "# \n",
    "# 1 \n",
    "# 2 2 \n",
    "# 3 3 3 \n",
    "# 4 4 4 4 \n",
    "# 5 5 5 5 5\n",
    "\n",
    "for i in range(6):\n",
    "    for j in range(i):\n",
    "        print(i, end=\" \")\n",
    "    print()"
   ]
  },
  {
   "cell_type": "code",
   "execution_count": 8,
   "metadata": {},
   "outputs": [],
   "source": [
    "# 8. Write a function to check and see if a given number is a palindrome (i.e. 121 is, but 125 is not).\n",
    "\n",
    "def isPalindrome(num):\n",
    "    return str(num) == str(num)[::-1]"
   ]
  },
  {
   "cell_type": "code",
   "execution_count": 9,
   "metadata": {},
   "outputs": [
    {
     "name": "stdout",
     "output_type": "stream",
     "text": [
      "[20, 30, 40, 60, 90]\n"
     ]
    }
   ],
   "source": [
    "# 9. Given the following two lists, create a single list that contains the odd numbers from list 1 and the even numbers from list 2 (do not just read the numbers and type out a new list, you hooligans).\n",
    "# \n",
    "# list1 = [10, 20, 25, 30, 35]\n",
    "# list2 = [40, 45, 60, 75, 90]\n",
    "\n",
    "list1 = [10, 20, 25, 30, 35]\n",
    "list2 = [40, 45, 60, 75, 90]\n",
    "\n",
    "newList = []\n",
    "\n",
    "for i in range(len(list1)):\n",
    "    if i % 2 == 1:\n",
    "        newList.append(list1[i])\n",
    "\n",
    "for i in range(len(list2)):\n",
    "    if i % 2 == 0:\n",
    "        newList.append(list2[i])\n",
    "\n",
    "print(newList)"
   ]
  },
  {
   "cell_type": "code",
   "execution_count": 10,
   "metadata": {},
   "outputs": [
    {
     "ename": "TypeError",
     "evalue": "'str' object is not callable",
     "output_type": "error",
     "traceback": [
      "\u001b[0;31m---------------------------------------------------------------------------\u001b[0m",
      "\u001b[0;31mTypeError\u001b[0m                                 Traceback (most recent call last)",
      "Cell \u001b[0;32mIn [10], line 5\u001b[0m\n\u001b[1;32m      1\u001b[0m \u001b[38;5;66;03m# 10. Write a program that extracts each digit from an integer and reverses the order (separate each digit with a space rather than a newline).\u001b[39;00m\n\u001b[1;32m      3\u001b[0m myInt \u001b[38;5;241m=\u001b[39m \u001b[38;5;28mint\u001b[39m(\u001b[38;5;28minput\u001b[39m(\u001b[38;5;124m\"\u001b[39m\u001b[38;5;124mEnter an integer: \u001b[39m\u001b[38;5;124m\"\u001b[39m))\n\u001b[0;32m----> 5\u001b[0m \u001b[38;5;28;01mfor\u001b[39;00m ch \u001b[38;5;129;01min\u001b[39;00m \u001b[38;5;28;43mstr\u001b[39;49m\u001b[43m(\u001b[49m\u001b[43mmyInt\u001b[49m\u001b[43m)\u001b[49m[::\u001b[38;5;241m-\u001b[39m\u001b[38;5;241m1\u001b[39m]:\n\u001b[1;32m      6\u001b[0m     \u001b[38;5;28mprint\u001b[39m(ch, end\u001b[38;5;241m=\u001b[39m\u001b[38;5;124m\"\u001b[39m\u001b[38;5;124m \u001b[39m\u001b[38;5;124m\"\u001b[39m)\n",
      "\u001b[0;31mTypeError\u001b[0m: 'str' object is not callable"
     ]
    }
   ],
   "source": [
    "# 10. Write a program that extracts each digit from an integer and reverses the order (separate each digit with a space rather than a newline).\n",
    "\n",
    "myInt = int(input(\"Enter an integer: \"))\n",
    "\n",
    "for ch in str(myInt)[::-1]:\n",
    "    print(ch, end=\" \")"
   ]
  },
  {
   "cell_type": "code",
   "execution_count": null,
   "metadata": {},
   "outputs": [],
   "source": [
    "# 11. Write a function called exponent(base, exp) that returns an int value of base raised to the power of exp.\n",
    "\n",
    "def exponent(base, exp): \n",
    "    return base ** exp"
   ]
  }
 ],
 "metadata": {
  "kernelspec": {
   "display_name": "Python 3.8.9 64-bit",
   "language": "python",
   "name": "python3"
  },
  "language_info": {
   "codemirror_mode": {
    "name": "ipython",
    "version": 3
   },
   "file_extension": ".py",
   "mimetype": "text/x-python",
   "name": "python",
   "nbconvert_exporter": "python",
   "pygments_lexer": "ipython3",
   "version": "3.8.9"
  },
  "orig_nbformat": 4,
  "vscode": {
   "interpreter": {
    "hash": "31f2aee4e71d21fbe5cf8b01ff0e069b9275f58929596ceb00d14d90e3e16cd6"
   }
  }
 },
 "nbformat": 4,
 "nbformat_minor": 2
}
