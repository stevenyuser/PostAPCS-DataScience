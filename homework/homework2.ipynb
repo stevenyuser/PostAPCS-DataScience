{
 "cells": [
  {
   "cell_type": "code",
   "execution_count": null,
   "metadata": {},
   "outputs": [],
   "source": [
    "import pandas as pd\n",
    "\n",
    "pokemon_series = pd.read_csv('../data/pokemon.csv', index_col=0).squeeze(\"columns\")\n",
    "\n",
    "if \"Ivysaur\" in pokemon_series:\n",
    "    print(\"Ivysaur is in the list\")\n",
    "\n",
    "if \"Grass\" in list(pokemon_series):\n",
    "    print(\"Grass is in the list\")"
   ]
  }
 ],
 "metadata": {
  "language_info": {
   "name": "python"
  },
  "orig_nbformat": 4
 },
 "nbformat": 4,
 "nbformat_minor": 2
}
