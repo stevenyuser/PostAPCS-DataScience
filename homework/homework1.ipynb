{
 "cells": [
  {
   "cell_type": "code",
   "execution_count": null,
   "metadata": {},
   "outputs": [],
   "source": [
    "# 1. Calculate the multiplication and sum of two numbers input by the user.\n",
    "num1 = int(input(\"number 1:\"))\n",
    "num2 = int(input(\"number 2:\"))\n",
    "print(f\"product: {num1 * num2}\")\n",
    "print(f\"sum: {num1 + num2}\")"
   ]
  },
  {
   "cell_type": "code",
   "execution_count": null,
   "metadata": {},
   "outputs": [],
   "source": [
    "# 2. Print the current number and the previous number, and the sum of the two, through 10 iterations (start at the number 1).\n",
    "for i in range(1, 11):\n",
    "    print(f\"previous: {i-1}\")\n",
    "    print(f\"current: {i}\")\n",
    "    print(f\"sum: {2*i-1}\")"
   ]
  },
  {
   "cell_type": "code",
   "execution_count": null,
   "metadata": {},
   "outputs": [],
   "source": [
    "# 3. Write a program to accept a String from a user and display the characters at an even index (separate lines for each).\n",
    "\n",
    "str = input(\"Enter a string: \")\n",
    "for i in range(len(str)):\n",
    "    if i % 2 == 0:\n",
    "        print(str[i])"
   ]
  },
  {
   "cell_type": "code",
   "execution_count": null,
   "metadata": {},
   "outputs": [],
   "source": [
    "# 4. Write a program to remove characters from a string starting from zero up to n and return a new String.\n",
    "\n",
    "string = input(\"Enter a string: \")\n",
    "n = int(input(\"Enter a number: \"))\n",
    "print(string[n:])"
   ]
  },
  {
   "cell_type": "code",
   "execution_count": null,
   "metadata": {},
   "outputs": [],
   "source": [
    "# 5. Write a function to return True if the first and last number in a given list is the same. If numbers are different, return False.\n",
    "\n",
    "def firstLast(list):\n",
    "    return list[0] == list[len(list) - 1]"
   ]
  },
  {
   "cell_type": "code",
   "execution_count": null,
   "metadata": {},
   "outputs": [],
   "source": [
    "# 6. Write a program to find how many times the substring “Delicatessen” appears in the given String. \n",
    "\n",
    "string = input(\"Enter a string: \")\n",
    "\n",
    "print(string.count(\"Delicatessen\"))"
   ]
  },
  {
   "cell_type": "code",
   "execution_count": null,
   "metadata": {},
   "outputs": [],
   "source": [
    "# 7. Print the following pattern:\n",
    "# \n",
    "# 1 \n",
    "# 2 2 \n",
    "# 3 3 3 \n",
    "# 4 4 4 4 \n",
    "# 5 5 5 5 5\n",
    "\n",
    "for i in range(6):\n",
    "    for j in range(i):\n",
    "        print(i, end=\" \")\n",
    "    print()"
   ]
  },
  {
   "cell_type": "code",
   "execution_count": null,
   "metadata": {},
   "outputs": [],
   "source": [
    "# 8. Write a function to check and see if a given number is a palindrome (i.e. 121 is, but 125 is not).\n",
    "\n",
    "def isPalindrome(num):\n",
    "    return str(num) == str(num)[::-1]"
   ]
  },
  {
   "cell_type": "code",
   "execution_count": null,
   "metadata": {},
   "outputs": [],
   "source": [
    "# 9. Given the following two lists, create a single list that contains the odd numbers from list 1 and the even numbers from list 2 (do not just read the numbers and type out a new list, you hooligans).\n",
    "# \n",
    "# list1 = [10, 20, 25, 30, 35]\n",
    "# list2 = [40, 45, 60, 75, 90]\n",
    "\n",
    "list1 = [10, 20, 25, 30, 35]\n",
    "list2 = [40, 45, 60, 75, 90]\n",
    "\n",
    "newList = []\n",
    "\n",
    "for i in list1:\n",
    "    if i % 2 == 1:\n",
    "        newList.append(i)\n",
    "\n",
    "for i in list2:\n",
    "    if i % 2 == 0:\n",
    "        newList.append(i)\n",
    "\n",
    "print(newList)"
   ]
  },
  {
   "cell_type": "code",
   "execution_count": null,
   "metadata": {},
   "outputs": [],
   "source": [
    "# 10. Write a program that extracts each digit from an integer and reverses the order (separate each digit with a space rather than a newline).\n",
    "\n",
    "myInt = int(input(\"Enter an integer: \"))\n",
    "\n",
    "for ch in str(myInt)[::-1]:\n",
    "    print(ch, end=\" \")"
   ]
  },
  {
   "cell_type": "code",
   "execution_count": null,
   "metadata": {},
   "outputs": [],
   "source": [
    "# 11. Write a function called exponent(base, exp) that returns an int value of base raised to the power of exp.\n",
    "\n",
    "def exponent(base, exp): \n",
    "    return base ** exp"
   ]
  }
 ],
 "metadata": {
  "kernelspec": {
   "display_name": "Python 3.8.9 64-bit",
   "language": "python",
   "name": "python3"
  },
  "language_info": {
   "codemirror_mode": {
    "name": "ipython",
    "version": 3
   },
   "file_extension": ".py",
   "mimetype": "text/x-python",
   "name": "python",
   "nbconvert_exporter": "python",
   "pygments_lexer": "ipython3",
   "version": "3.8.9"
  },
  "orig_nbformat": 4,
  "vscode": {
   "interpreter": {
    "hash": "31f2aee4e71d21fbe5cf8b01ff0e069b9275f58929596ceb00d14d90e3e16cd6"
   }
  }
 },
 "nbformat": 4,
 "nbformat_minor": 2
}
