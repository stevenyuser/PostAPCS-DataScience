{
 "cells": [
  {
   "cell_type": "code",
   "execution_count": 8,
   "metadata": {},
   "outputs": [
    {
     "data": {
      "text/plain": [
       "0    False\n",
       "1     True\n",
       "2    False\n",
       "3     True\n",
       "4     True\n",
       "dtype: bool"
      ]
     },
     "execution_count": 8,
     "metadata": {},
     "output_type": "execute_result"
    }
   ],
   "source": [
    "# HW: Research DF\n",
    "\n",
    "import pandas as pd\n",
    "\n",
    "# 4. duplicated() and drop_duplicates()\n",
    "\n",
    "# duplicated: Return boolean Series denoting duplicate rows.\n",
    "df = pd.DataFrame({\n",
    "    'brand': ['Yum Yum', 'Yum Yum', 'Indomie', 'Indomie', 'Indomie'],\n",
    "    'style': ['cup', 'cup', 'cup', 'pack', 'pack'],\n",
    "    'rating': [4, 4, 3.5, 15, 5]\n",
    "})\n",
    "# By default, for each set of duplicated values, the first occurrence is set on False and all others on True.\n",
    "df.duplicated()\n",
    "# By using ‘last’, the last occurrence of each set of duplicated values is set on False and all others on True.\n",
    "df.duplicated(keep='last')\n",
    "# By setting keep on False, all duplicates are True.\n",
    "df.duplicated(keep=False)\n",
    "# To find duplicates on specific column(s), use subset.\n",
    "df.duplicated(subset=['brand'])\n",
    "\n",
    "# drop_duplicates: Return DataFrame with duplicate rows removed.\n",
    "df = pd.DataFrame({\n",
    "    'brand': ['Yum Yum', 'Yum Yum', 'Indomie', 'Indomie', 'Indomie'],\n",
    "    'style': ['cup', 'cup', 'cup', 'pack', 'pack'],\n",
    "    'rating': [4, 4, 3.5, 15, 5]\n",
    "})\n",
    "# By default, it removes duplicate rows based on all columns.\n",
    "df.drop_duplicates()\n",
    "# To remove duplicates on specific column(s), use subset.\n",
    "df.drop_duplicates(subset=['brand'])\n",
    "# To remove duplicates and keep last occurrences, use keep = \"last\".\n",
    "df.drop_duplicates(subset=['brand'], keep = \"last\")\n",
    "# To remove duplicates and keep first occurrences, use keep = \"first\".\n",
    "df.drop_duplicates(subset=['brand'], keep = \"first\")"
   ]
  }
 ],
 "metadata": {
  "kernelspec": {
   "display_name": "Python 3.8.9 64-bit",
   "language": "python",
   "name": "python3"
  },
  "language_info": {
   "codemirror_mode": {
    "name": "ipython",
    "version": 3
   },
   "file_extension": ".py",
   "mimetype": "text/x-python",
   "name": "python",
   "nbconvert_exporter": "python",
   "pygments_lexer": "ipython3",
   "version": "3.8.9"
  },
  "orig_nbformat": 4,
  "vscode": {
   "interpreter": {
    "hash": "31f2aee4e71d21fbe5cf8b01ff0e069b9275f58929596ceb00d14d90e3e16cd6"
   }
  }
 },
 "nbformat": 4,
 "nbformat_minor": 2
}
