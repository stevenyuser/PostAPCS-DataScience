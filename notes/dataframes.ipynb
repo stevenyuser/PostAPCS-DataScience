{
 "cells": [
  {
   "cell_type": "code",
   "execution_count": null,
   "metadata": {},
   "outputs": [],
   "source": [
    "import pandas as pd\n",
    "\n",
    "nba = pd.read_csv(\"../data/nba.csv\")\n",
    "print(nba.info())"
   ]
  },
  {
   "cell_type": "code",
   "execution_count": null,
   "metadata": {},
   "outputs": [],
   "source": [
    "import pandas as pd\n",
    "\n",
    "# revenue = pd.read_csv(\"../data/revenue.csv\")\n",
    "revenue = pd.read_csv(\"../data/revenue.csv\", index_col=\"Date\")\n",
    "revenue.sum(axis=\"columns\")"
   ]
  },
  {
   "cell_type": "code",
   "execution_count": null,
   "metadata": {},
   "outputs": [],
   "source": [
    "import pandas as pd\n",
    "\n",
    "nba = pd.read_csv(\"../data/nba.csv\")\n",
    "nba[\"Name\"]\n",
    "type(nba[\"Name\"])"
   ]
  },
  {
   "cell_type": "code",
   "execution_count": null,
   "metadata": {},
   "outputs": [],
   "source": [
    "import pandas as pd\n",
    "\n",
    "cruise_ships = pd.read_csv(\"../data/cruise_ships.csv\")\n",
    "operator = cruise_ships[\"Operator\"]\n",
    "tonnage = cruise_ships[\"Tonnage\"]\n",
    "name = cruise_ships[\"Name\"]"
   ]
  },
  {
   "cell_type": "code",
   "execution_count": null,
   "metadata": {},
   "outputs": [],
   "source": [
    "import pandas as pd\n",
    "\n",
    "nba = pd.read_csv(\"../data/nba.csv\")\n",
    "nba[[\"Name\", \"Team\"]]"
   ]
  },
  {
   "cell_type": "code",
   "execution_count": null,
   "metadata": {},
   "outputs": [],
   "source": [
    "import pandas as pd\n",
    "\n",
    "chicken = pd.read_csv(\"../data/chicken_restaurants.csv\")\n",
    "year_locations = chicken[[\"Year\", \"Locations\"]]\n",
    "locations_name_hq = chicken[[\"Locations\", \"Name\", \"Headquarters\"]]"
   ]
  },
  {
   "cell_type": "code",
   "execution_count": null,
   "metadata": {},
   "outputs": [],
   "source": [
    "import pandas as pd\n",
    "\n",
    "nba = pd.read_csv(\"../data/nba.csv\")\n",
    "nba[\"Sport\"] = \"Basketball\"\n",
    "nba[\"League\"] = \"National Basketball Association\""
   ]
  },
  {
   "cell_type": "code",
   "execution_count": null,
   "metadata": {},
   "outputs": [],
   "source": [
    "import pandas as pd\n",
    "\n",
    "nba = pd.read_csv(\"../data/nba.csv\")\n",
    "nba.insert(loc=3,column=\"Sport\",value=\"Basketball\")"
   ]
  },
  {
   "cell_type": "code",
   "execution_count": null,
   "metadata": {},
   "outputs": [],
   "source": [
    "import pandas as pd\n",
    "\n",
    "nba = pd.read_csv(\"../data/nba.csv\")\n",
    "nba[\"Age in a Decade\"] = nba[\"Age\"] + 10"
   ]
  },
  {
   "cell_type": "code",
   "execution_count": null,
   "metadata": {},
   "outputs": [],
   "source": [
    "import pandas as pd\n",
    "\n",
    "nba = pd.read_csv(\"../data/nba.csv\")\n",
    "nba.dropna(how = \"all\")\n",
    "nba.dropna(subset=[\"College\"])"
   ]
  },
  {
   "cell_type": "code",
   "execution_count": null,
   "metadata": {},
   "outputs": [],
   "source": [
    "import pandas as pd\n",
    "\n",
    "nba = pd.read_csv(\"../data/nba.csv\")\n",
    "\n",
    "nba = nba.dropna()\n",
    "print(nba)"
   ]
  },
  {
   "cell_type": "code",
   "execution_count": null,
   "metadata": {},
   "outputs": [],
   "source": [
    "import pandas as pd\n",
    "\n",
    "nba = pd.read_csv(\"../data/nba.csv\")\n",
    "\n",
    "nba = nba.dropna(subset=[\"Team\", \"Position\"])\n",
    "print(nba)"
   ]
  },
  {
   "cell_type": "code",
   "execution_count": null,
   "metadata": {},
   "outputs": [],
   "source": [
    "import pandas as pd\n",
    "\n",
    "nba = pd.read_csv(\"../data/nba.csv\")\n",
    "\n",
    "nba[\"First Name\"] = nba[\"Name\"].str.split(\" \", 1, expand=True)[0]\n",
    "nba[\"Last Name\"] = nba[\"Name\"].str.split(\" \", 1, expand=True)[1]\n",
    "print(nba)"
   ]
  },
  {
   "cell_type": "code",
   "execution_count": null,
   "metadata": {},
   "outputs": [],
   "source": [
    "import pandas as pd\n",
    "\n",
    "chicken = pd.read_csv(\"../data/chicken_restaurants.csv\")\n",
    "chicken = chicken.dropna()\n",
    "print(chicken)"
   ]
  },
  {
   "cell_type": "code",
   "execution_count": null,
   "metadata": {},
   "outputs": [],
   "source": [
    "import pandas as pd\n",
    "\n",
    "chicken = pd.read_csv(\"../data/chicken_restaurants.csv\")\n",
    "chicken = chicken.dropna(subset=[\"Original Location\", \"Headquarters\"])\n",
    "print(chicken)"
   ]
  },
  {
   "cell_type": "code",
   "execution_count": null,
   "metadata": {},
   "outputs": [],
   "source": [
    "import pandas as pd\n",
    "\n",
    "nba = pd.read_csv(\"../data/nba.csv\")\n",
    "# nba = nba.fillna(0)\n",
    "nba[\"College\"] = nba[\"College\"].fillna(\"Unknown\")\n",
    "nba"
   ]
  },
  {
   "cell_type": "code",
   "execution_count": null,
   "metadata": {},
   "outputs": [],
   "source": [
    "import pandas as pd\n",
    "\n",
    "nba = pd.read_csv(\"../data/nba.csv\")\n",
    "nba = nba.dropna(how=\"all\")\n",
    "nba[\"Age\"] = nba[\"Age\"].astype(int)"
   ]
  },
  {
   "cell_type": "code",
   "execution_count": null,
   "metadata": {},
   "outputs": [],
   "source": [
    "import pandas as pd\n",
    "\n",
    "nba = pd.read_csv(\"../data/nba.csv\")\n",
    "nba[\"Position\"].nunique()\n",
    "\n",
    "nba.info()\n",
    "nba[\"Position\"] = nba[\"Position\"].astype(\"category\")\n",
    "nba.info()"
   ]
  },
  {
   "cell_type": "code",
   "execution_count": null,
   "metadata": {},
   "outputs": [],
   "source": [
    "import pandas as pd\n",
    "\n",
    "health = pd.read_csv(\"../data/health.csv\")\n",
    "health[\"Weight\"] = health[\"Weight\"].astype(\"string\")\n",
    "health[\"Height\"] = health[\"Height\"].astype(\"int\")\n",
    "health[\"Blood Type\"] = health[\"Blood Type\"].astype(\"category\")"
   ]
  },
  {
   "cell_type": "code",
   "execution_count": null,
   "metadata": {},
   "outputs": [],
   "source": [
    "import pandas as pd\n",
    "\n",
    "nba = pd.read_csv(\"../data/nba.csv\")\n",
    "\n",
    "nba.sort_values(by=\"Name\")"
   ]
  },
  {
   "cell_type": "code",
   "execution_count": null,
   "metadata": {},
   "outputs": [],
   "source": [
    "import pandas as pd\n",
    "\n",
    "nba = pd.read_csv(\"../data/nba.csv\")\n",
    "\n",
    "nba.sort_values(\"Salary\", na_position=\"last\")"
   ]
  },
  {
   "cell_type": "code",
   "execution_count": null,
   "metadata": {},
   "outputs": [],
   "source": [
    "import pandas as pd\n",
    "\n",
    "nba = pd.read_csv(\"../data/nba.csv\")\n",
    "\n",
    "nba.sort_values(by=[\"Team\", \"Name\"])"
   ]
  },
  {
   "cell_type": "code",
   "execution_count": null,
   "metadata": {},
   "outputs": [],
   "source": [
    "import pandas as pd\n",
    "\n",
    "nba = pd.read_csv(\"../data/nba.csv\")\n",
    "\n",
    "nba.sort_values([\"Position\", \"Salary\"], ascending=[True, False])"
   ]
  },
  {
   "cell_type": "code",
   "execution_count": null,
   "metadata": {},
   "outputs": [],
   "source": [
    "import pandas as pd\n",
    "\n",
    "nba = pd.read_csv(\"../data/nba.csv\")\n",
    "\n",
    "nba[\"Age\"].dropna().astype(int)\n",
    "nba[\"Position\"].nunique()\n",
    "\n",
    "nba.info()\n",
    "nba[\"Position\"] = nba[\"Position\"].astype(\"category\")\n",
    "nba.info()"
   ]
  },
  {
   "cell_type": "code",
   "execution_count": null,
   "metadata": {},
   "outputs": [],
   "source": [
    "import pandas as pd\n",
    "\n",
    "health = pd.read_csv(\"../data/health.csv\")\n",
    "health[\"Weight\"] = health[\"Weight\"].astype(\"string\")\n",
    "health[\"Height\"] = health[\"Height\"].astype(\"int\")\n",
    "health[\"Blood Type\"] = health[\"Blood Type\"].astype(\"category\")\n",
    "health"
   ]
  },
  {
   "cell_type": "code",
   "execution_count": null,
   "metadata": {},
   "outputs": [],
   "source": [
    "import pandas as pd\n",
    "\n",
    "nba = pd.read_csv(\"../data/nba.csv\")\n",
    "\n",
    "nba.sort_values(by=\"Name\")\n",
    "nba.sort_values(\"Salary\", na_position=\"last\")"
   ]
  },
  {
   "cell_type": "code",
   "execution_count": null,
   "metadata": {},
   "outputs": [],
   "source": [
    "import pandas as pd\n",
    "\n",
    "nba = pd.read_csv(\"../data/nba.csv\")\n",
    "\n",
    "nba.sort_values(by=[\"Team\", \"Name\"])\n",
    "\n",
    "# nba.sort_values([\"Position\", \"Salary\"], ascending=[True, False])"
   ]
  },
  {
   "cell_type": "code",
   "execution_count": null,
   "metadata": {},
   "outputs": [],
   "source": [
    "import pandas as pd\n",
    "\n",
    "df = pd.read_csv(\"../data/employees.csv\", parse_dates=[\"Start Date\", \"Last Login Time\"])\n",
    "df[\"Senior Management\"] = df[\"Senior Management\"].astype(\"bool\")\n",
    "df[\"Gender\"] = df[\"Gender\"].astype(\"category\")\n",
    "df.head(3)\n",
    "\n",
    "df[df[\"Gender\"] == \"Male\"]\n",
    "\n",
    "df[df[\"Team\"] == \"Finance\"]\n",
    "\n",
    "mask1 = df[\"Gender\"] == \"Male\"\n",
    "mask2 = df[\"Team\"] == \"Marketing\"\n",
    "df[mask1 & mask2]\n",
    "\n",
    "mask1 = df[\"Senior Management\"]\n",
    "mask2 = df[\"Start Date\"] == \"1999-01-01\"\n",
    "df[mask1 | mask2]"
   ]
  },
  {
   "cell_type": "code",
   "execution_count": null,
   "metadata": {},
   "outputs": [],
   "source": [
    "# the office exercise\n",
    "\n",
    "from datetime import datetime\n",
    "import pandas as pd\n",
    "\n",
    "# Part I\n",
    "\n",
    "office_df = pd.read_csv(\"../data/the_office.csv\", parse_dates=[\"Airdate\"])\n",
    "\n",
    "# 1\n",
    "gregdaniels_episodes = office_df[office_df[\"Writer\"] == \"Greg Daniels\"]\n",
    "\n",
    "# 2\n",
    "previous_episodes = office_df[office_df[\"Season\"] < 8]\n",
    "\n",
    "# 3\n",
    "office_df[office_df[\"Airdate\"] < datetime(2008,1,1)]\n",
    "\n",
    "# Part II\n",
    "\n",
    "office_df = pd.read_csv(\"../data/the_office.csv\", parse_dates=[\"Airdate\"])\n",
    "\n",
    "# 1\n",
    "mask1 = office_df[\"Viewership\"] > 10\n",
    "mask2 = office_df[\"Director\"] == \"Jeffrey Blitz\"\n",
    "office_df[mask1 & mask2]\n",
    "\n",
    "# 2\n",
    "office_df[office_df[\"Episode\"] >= 15]\n",
    "\n",
    "# 3 \n",
    "mask1 = office_df[\"Episode\"] == 6\n",
    "mask2 = office_df[\"Airdate\"] <= datetime(2010,1,1)\n",
    "office_df[mask1 & mask2]\n",
    "\n",
    "# Part III\n",
    "\n",
    "office_df = pd.read_csv(\"../data/the_office.csv\", parse_dates=[\"Airdate\"])\n",
    "\n",
    "# 1 \n",
    "mask1 = office_df[\"Season\"] == 4\n",
    "mask2 = office_df[\"Director\"] == \"Harold Ramis\"\n",
    "office_df[mask1 | mask2]\n",
    "\n",
    "# 2\n",
    "mask1 = office_df[\"Viewership\"] < 4\n",
    "mask2 = office_df[\"Airdate\"] <= datetime(2013,1,1)\n",
    "office_df[mask1 | mask2]\n",
    "\n",
    "# 3\n",
    "mask1 = office_df[\"Episode\"] == 9\n",
    "mask2 = office_df[\"Name\"] == \"Niagara\"\n",
    "office_df[mask1 | mask2]"
   ]
  }
 ],
 "metadata": {
  "kernelspec": {
   "display_name": "Python 3.8.9 64-bit",
   "language": "python",
   "name": "python3"
  },
  "language_info": {
   "codemirror_mode": {
    "name": "ipython",
    "version": 3
   },
   "file_extension": ".py",
   "mimetype": "text/x-python",
   "name": "python",
   "nbconvert_exporter": "python",
   "pygments_lexer": "ipython3",
   "version": "3.8.9"
  },
  "orig_nbformat": 4,
  "vscode": {
   "interpreter": {
    "hash": "31f2aee4e71d21fbe5cf8b01ff0e069b9275f58929596ceb00d14d90e3e16cd6"
   }
  }
 },
 "nbformat": 4,
 "nbformat_minor": 2
}
