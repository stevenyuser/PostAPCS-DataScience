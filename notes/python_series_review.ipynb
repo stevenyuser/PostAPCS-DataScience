{
 "cells": [
  {
   "cell_type": "code",
   "execution_count": null,
   "metadata": {},
   "outputs": [],
   "source": [
    "# Complete the following:\n",
    "# Have the user enter 5 values into a list.\n",
    "# Have the user enter 5 labels into a separate list.\n",
    "# Create a Series that uses the values for the values, and the labels as the row labels.\n",
    "\n",
    "import pandas as pd\n",
    "\n",
    "values1 = []\n",
    "labels1 = []\n",
    "\n",
    "for i in range(5): \n",
    "    values1.append(input(f\"enter value {i}\"))\n",
    "\n",
    "for i in range(5): \n",
    "    labels1.append(input(f\"enter label {i}\"))\n",
    "\n",
    "series1 = pd.Series(index=labels1, data=values1)\n",
    "print(series1)"
   ]
  },
  {
   "cell_type": "code",
   "execution_count": null,
   "metadata": {},
   "outputs": [],
   "source": [
    "# In a custom function with a list parameter, swap each element of the list with its mirror image (i.e. first element with the last element, 2nd element with 2nd to last, etc.)\n",
    "\n",
    "import pandas as pd\n",
    "\n",
    "def swap(list):\n",
    "    return list[::-1]\n",
    "\n",
    "# print(swap([1,2,3]))"
   ]
  },
  {
   "cell_type": "code",
   "execution_count": null,
   "metadata": {},
   "outputs": [],
   "source": [
    "# In a custom function, have the user enter a positive integer N. Print the prime numbers between 1 and N.\n",
    "\n",
    "def primes(n):\n",
    "    for i in range(2, n+1): \n",
    "        isPrime = True\n",
    "        for j in range(2, i):\n",
    "            if(i % j == 0):\n",
    "                isPrime = False\n",
    "                break\n",
    "        if(isPrime):\n",
    "            print(i)\n",
    "\n",
    "# print(primes(31))"
   ]
  },
  {
   "cell_type": "code",
   "execution_count": null,
   "metadata": {},
   "outputs": [],
   "source": [
    "# Write a function that finds and returns the smallest number in a given list. Write a separate function that finds and returns the largest number in a given list.\n",
    "\n",
    "def smallest(list):\n",
    "    if len(list) > 0:\n",
    "        smallest = list[0]\n",
    "    else:\n",
    "        return None\n",
    "    \n",
    "    for i in list:\n",
    "        if(smallest > i):\n",
    "            smallest = i\n",
    "    return smallest\n",
    "\n",
    "\n",
    "def largest(list):\n",
    "    if len(list) > 0:\n",
    "        largest = list[0]\n",
    "    else:\n",
    "        return None\n",
    "    \n",
    "    for i in list:\n",
    "        if(largest < i):\n",
    "            largest = i\n",
    "    return largest\n"
   ]
  },
  {
   "cell_type": "code",
   "execution_count": null,
   "metadata": {},
   "outputs": [],
   "source": [
    "# Write a function that takes a list and an integer as parameters, and returns the N-largest numbers in that list as a list.\n",
    "\n",
    "def nLargest(list, n):\n",
    "    list.sort()\n",
    "    returnList = []\n",
    "    for i in range(n):\n",
    "        returnList.append(list.pop())\n",
    "    return returnList\n"
   ]
  },
  {
   "cell_type": "code",
   "execution_count": null,
   "metadata": {},
   "outputs": [],
   "source": [
    "# Write a Pandas program to convert a dictionary to a Pandas series.\n",
    "# \n",
    "# Original Dictionary: {‘a’ : 100, ‘b’ : 200, ’c’ : 300, ’d’ : 400, ’e’ : 800}\n",
    "\n",
    "import pandas as pd\n",
    "\n",
    "original_dict = {'a' : 100, 'b' : 200, 'c' : 300, 'd' : 400, 'e' : 800}\n",
    "\n",
    "new_series = pd.Series(data=original_dict)"
   ]
  },
  {
   "cell_type": "code",
   "execution_count": null,
   "metadata": {},
   "outputs": [],
   "source": [
    "# Write a Pandas program to sort a given Series. \n",
    "# \n",
    "# Original Series: [‘100’, ’200’, ’python’, ‘300.12’, ‘400’]\n",
    "\n",
    "import pandas as pd\n",
    "\n",
    "original_series = pd.Series(['100', '200', 'python', '300.12', '400'])\n",
    "new_series = original_series.sort_values()"
   ]
  },
  {
   "cell_type": "code",
   "execution_count": 72,
   "metadata": {},
   "outputs": [
    {
     "name": "stdout",
     "output_type": "stream",
     "text": [
      "0    0\n",
      "1    1\n",
      "2    2\n",
      "3    3\n",
      "4    4\n",
      "5    5\n",
      "6    6\n",
      "7    7\n",
      "8    8\n",
      "dtype: int64\n"
     ]
    }
   ],
   "source": [
    "# Complete the following:\n",
    "# Make a Series with 10 numbers, where the row #’s match the values\n",
    "# Ask the user for a number to be input (from 1-9)\n",
    "# With that number, create a new Series that is a subset of the original.\n",
    "\n",
    "import pandas as pd\n",
    "\n",
    "nums = [0,1,2,3,4,5,6,7,8,9]\n",
    "nums_series = pd.Series(data=nums,index=nums)\n",
    "input_num = int(input(\"Enter a num (from 1-9):\"))\n",
    "new_series = nums_series[:input_num]\n",
    "print(new_series)"
   ]
  },
  {
   "cell_type": "code",
   "execution_count": null,
   "metadata": {},
   "outputs": [],
   "source": [
    "# Write a Pandas program that prints the mean and standard deviation of a given Series.\n",
    "# \n",
    "# Original Series: [1, 2, 3, 4, 5, 6, 7, 8, 9, 5, 3]\n",
    "\n",
    "import pandas as pd\n",
    "\n",
    "nums = [1, 2, 3, 4, 5, 6, 7, 8, 9, 5, 3]\n",
    "series = pd.Series(nums)\n",
    "print(f\"Mean of series: {series.mean()}\")\n",
    "print(f\"Standard deviation of series: {series.std()}\")"
   ]
  }
 ],
 "metadata": {
  "kernelspec": {
   "display_name": "Python 3.8.9 64-bit",
   "language": "python",
   "name": "python3"
  },
  "language_info": {
   "codemirror_mode": {
    "name": "ipython",
    "version": 3
   },
   "file_extension": ".py",
   "mimetype": "text/x-python",
   "name": "python",
   "nbconvert_exporter": "python",
   "pygments_lexer": "ipython3",
   "version": "3.8.9"
  },
  "orig_nbformat": 4,
  "vscode": {
   "interpreter": {
    "hash": "31f2aee4e71d21fbe5cf8b01ff0e069b9275f58929596ceb00d14d90e3e16cd6"
   }
  }
 },
 "nbformat": 4,
 "nbformat_minor": 2
}
