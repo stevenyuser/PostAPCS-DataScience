{
 "cells": [
  {
   "cell_type": "code",
   "execution_count": null,
   "metadata": {},
   "outputs": [],
   "source": [
    "import pandas as pd\n",
    "\n",
    "ice_cream = [\"Chocolate\", \"Vanilla\", \"Strawberry\", \"Rum Raisin\"]\n",
    "print(pd.Series(ice_cream))\n",
    "\n",
    "sushi = {\n",
    "    \"Salmon\": \"Orange\",\n",
    "    \"Tuna\": \"Black\",\n",
    "    \"Eel\": \"Purple\",\n",
    "}\n",
    "print(pd.Series(sushi))"
   ]
  },
  {
   "cell_type": "code",
   "execution_count": null,
   "metadata": {},
   "outputs": [],
   "source": [
    "# exercises \n",
    "\n",
    "import pandas as pd\n",
    "\n",
    "country_list = [\"USA\", \"Canada\", \"Mexico\", \"Chile\"]\n",
    "nations = pd.Series(country_list)\n",
    "\n",
    "\n",
    "\n",
    "recipe = {\n",
    "    \"Flour\": True,\n",
    "    \"Sugar\": True,\n",
    "    \"Salt\": False,\n",
    "}\n",
    "\n",
    "series_dict = pd.Series(recipe)\n",
    "print(series_dict)"
   ]
  },
  {
   "cell_type": "code",
   "execution_count": null,
   "metadata": {},
   "outputs": [],
   "source": [
    "foods = [\"burger\", \"pizza\", \"hot dog\", \"fries\", \"salad\"]\n",
    "dipping_sauces = [\"ketchup\", \"mayo\", \"mustard\", \"ranch\", \"honey mustard\"]\n",
    "food_sauce = pd.Series(foods, dipping_sauces)\n",
    "print(food_sauce)"
   ]
  },
  {
   "cell_type": "code",
   "execution_count": null,
   "metadata": {},
   "outputs": [],
   "source": [
    "import pandas as pd\n",
    "\n",
    "guitars_dict = {\n",
    "    \"fender Telecaster\": \"Baby Blue\",\n",
    "    \"Gibson Les Paul\": \"Sunburst\",\n",
    "    \"ESP Eclipse\": \"Dark Green\",\n",
    "}\n",
    "\n",
    "guitars = pd.Series(guitars_dict)\n",
    "\n",
    "fender_color = guitars.get(0)\n",
    "\n",
    "gibson_color = guitars.get(\"Gibson Les Paul\")\n",
    "\n",
    "esp_color = guitars.get(\"ESP Eclipse\")"
   ]
  }
 ],
 "metadata": {
  "kernelspec": {
   "display_name": "Python 3.8.9 64-bit",
   "language": "python",
   "name": "python3"
  },
  "language_info": {
   "codemirror_mode": {
    "name": "ipython",
    "version": 3
   },
   "file_extension": ".py",
   "mimetype": "text/x-python",
   "name": "python",
   "nbconvert_exporter": "python",
   "pygments_lexer": "ipython3",
   "version": "3.8.9"
  },
  "orig_nbformat": 4,
  "vscode": {
   "interpreter": {
    "hash": "31f2aee4e71d21fbe5cf8b01ff0e069b9275f58929596ceb00d14d90e3e16cd6"
   }
  }
 },
 "nbformat": 4,
 "nbformat_minor": 2
}
